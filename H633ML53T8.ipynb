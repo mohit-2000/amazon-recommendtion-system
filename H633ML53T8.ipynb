{
 "cells": [
  {
   "cell_type": "code",
   "execution_count": 15,
   "metadata": {},
   "outputs": [],
   "source": [
    "#library installation \n",
    "def install_and_import(package):\n",
    "    import importlib\n",
    "    try:\n",
    "        importlib.import_module(package)\n",
    "    except ImportError:\n",
    "        import pip\n",
    "        pip.main(['install', package])\n",
    "    finally:\n",
    "        globals()[package] = importlib.import_module(package)\n",
    "\n",
    "\n",
    "install_and_import('pyspark')\n",
    "install_and_import('matplotlib')\n",
    "install_and_import('seaborn')\n",
    "install_and_import('numpy')\n",
    "install_and_import('sklearn')\n",
    "install_and_import('datetime')\n",
    "install_and_import('pandas')\n",
    "install_and_import('nltk')\n",
    "install_and_import('os')\n",
    "install_and_import('time')"
   ]
  },
  {
   "cell_type": "code",
   "execution_count": 16,
   "metadata": {},
   "outputs": [],
   "source": [
    "from pyspark.sql import SparkSession\n",
    "import datetime\n",
    "spark = SparkSession.builder.appName('Recommendation_system').getOrCreate()"
   ]
  },
  {
   "cell_type": "code",
   "execution_count": 17,
   "metadata": {},
   "outputs": [
    {
     "name": "stdout",
     "output_type": "stream",
     "text": [
      "+----------+--------+-------+--------------------+-----------+--------------+--------------------+--------------------+--------------+\n",
      "|      asin| helpful|overall|          reviewText| reviewTime|    reviewerID|        reviewerName|             summary|unixReviewTime|\n",
      "+----------+--------+-------+--------------------+-----------+--------------+--------------------+--------------------+--------------+\n",
      "|1384719342|  [0, 0]|    5.0|Not much to write...|02 28, 2014|A2IBPI20UZIR0U|cassandra tu \"Yea...|                good|    1393545600|\n",
      "|1384719342|[13, 14]|    5.0|The product does ...|03 16, 2013|A14VAT5EAX3D9S|                Jake|                Jake|    1363392000|\n",
      "|1384719342|  [1, 1]|    5.0|The primary job o...|08 28, 2013|A195EZSQDW3E21|Rick Bennette \"Ri...|It Does The Job Well|    1377648000|\n",
      "|1384719342|  [0, 0]|    5.0|Nice windscreen p...|02 14, 2014|A2C00NNG1ZQQG2|RustyBill \"Sunday...|GOOD WINDSCREEN F...|    1392336000|\n",
      "|1384719342|  [0, 0]|    5.0|This pop filter i...|02 21, 2014| A94QU4C90B1AX|       SEAN MASLANKA|No more pops when...|    1392940800|\n",
      "|B00004Y2UT|  [0, 0]|    5.0|So good that I bo...|12 21, 2012|A2A039TZMZHH9Y| Bill Lewey \"blewey\"|      The Best Cable|    1356048000|\n",
      "|B00004Y2UT|  [0, 0]|    5.0|I have used monst...|01 19, 2014|A1UPZM995ZAH90|               Brian|Monster Standard ...|    1390089600|\n",
      "|B00004Y2UT|  [0, 0]|    3.0|I now use this ca...|11 16, 2012| AJNFQI3YR6XJ5|   Fender Guy \"Rick\"|Didn't fit my 199...|    1353024000|\n",
      "|B00004Y2UT|  [0, 0]|    5.0|Perfect for my Ep...| 07 6, 2008|A3M1PLEYNDEYO8|     G. Thomas \"Tom\"|         Great cable|    1215302400|\n",
      "|B00004Y2UT|  [0, 0]|    5.0|Monster makes the...| 01 8, 2014| AMNTZU1YQN1TH|         Kurt Robair|Best Instrument C...|    1389139200|\n",
      "|B00004Y2UT|  [6, 6]|    5.0|Monster makes a w...|04 19, 2012|A2NYK9KWFMJV4Y|Mike Tarrani \"Jaz...|One of the best i...|    1334793600|\n",
      "|B00005ML71|  [0, 0]|    4.0|I got it to have ...|04 22, 2014|A35QFQI0M46LWO|       Christopher C|It works great bu...|    1398124800|\n",
      "|B00005ML71|  [0, 0]|    3.0|If you are not us...|11 17, 2013|A2NIT6BKW11XJQ|                 Jai|HAS TO GET USE TO...|    1384646400|\n",
      "|B00005ML71|  [0, 0]|    5.0|I love it, I used...|06 16, 2013|A1C0O09LOLVI39|             Michael|             awesome|    1371340800|\n",
      "|B00005ML71|  [0, 0]|    5.0|I bought this to ...|12 31, 2012|A17SLR18TUMULM|         Straydogger|           It works!|    1356912000|\n",
      "|B00005ML71|  [0, 0]|    2.0|I bought this to ...|08 17, 2013|A2PD27UKAD3Q00|Wilhelmina Zeitge...|Definitely Not Fo...|    1376697600|\n",
      "|B000068NSX|  [0, 0]|    4.0|This Fender cable...|08 13, 2013| AKSFZ4G1AXYFC|        C.E. \"Frank\"|Durable Instrumen...|    1376352000|\n",
      "|B000068NSX|  [0, 0]|    5.0|wanted it just on...| 07 9, 2013| A67OJZLHBBUQ9|Charles F. Marks ...|fender 18 ft. Cal...|    1373328000|\n",
      "|B000068NSX|  [3, 3]|    5.0|I've been using t...|03 18, 2013|A2EZWZ8MBEDOLN|              Charlo|So far so good.  ...|    1363564800|\n",
      "|B000068NSX|  [0, 0]|    5.0|Fender cords look...| 08 7, 2013|A1CL807EOUPVP1|             GunHawk|Add California to...|    1375833600|\n",
      "|B000068NSX|  [0, 0]|    4.0|This is a cool lo...|03 16, 2012|A1GMWTGXW682GB|            MetalFan|Cheap and cool lo...|    1331856000|\n",
      "|B000068NSX|  [0, 0]|    5.0|The Fender 18 Fee...|01 29, 2014|A2G12DY50U700V|         Ricky Shows|Fender 18 Feet Ca...|    1390953600|\n",
      "|B000068NSX|  [0, 0]|    4.0|Very good cable. ...| 12 8, 2012| A3E0CF25A7LD2|              WBowie|        Guitar Cable|    1354924800|\n",
      "|B000068NTU|  [0, 0]|    5.0|Got this cable to...| 07 5, 2012|A2W3CLAYZLDPTV|Amazon Customer \"...|      Quality cable!|    1341446400|\n",
      "|B000068NTU|  [0, 0]|    5.0|When I was search...|10 31, 2013|A398X9POBHK69N|     Ann Vande Zande|I Got Great Prici...|    1383177600|\n",
      "|B000068NTU|  [0, 0]|    4.0|Cant go wrong. Gr...| 07 3, 2013| AXWB93VKVML6K|      Michael Hassey|          Its a Hosa|    1372809600|\n",
      "|B000068NTU|  [0, 0]|    5.0|The ends of the m...|01 25, 2012|A2FZ4Z0UFA1OR8|                 Pat|  Quality and Secure|    1327449600|\n",
      "|B000068NTU|  [0, 0]|    5.0|Just trying to fi...|10 15, 2013| AXP9CF1UTFRSU|                tada|        Midi to Midi|    1381795200|\n",
      "|B000068NVI|  [1, 1]|    4.0|The Hosa XLR cabl...|07 11, 2012|A2CCGGDGZ694CT|            b carney|Very Heavy Cables...|    1341964800|\n",
      "|B000068NVI|  [0, 0]|    5.0|I bought these to...|02 19, 2014|A27DR1VO079F1V|           Dan Edman|         Still going|    1392768000|\n",
      "|B000068NVI|  [0, 0]|    5.0|Sturdy cord and p...|05 26, 2012|A1LQC225SE8UNI|         David Burch|Does what it's su...|    1337990400|\n",
      "|B000068NVI|  [0, 0]|    5.0|Use it every week...|08 10, 2013| AU9BPT3Y3K6J4|         G. L. Beebe|          Good cable|    1376092800|\n",
      "|B000068NVI|  [0, 0]|    4.0|Hosa products are...|03 11, 2014|A14Z9LAETO21KL|           Gutjammer|         Good Enough|    1394496000|\n",
      "|B000068NVI|  [0, 0]|    5.0|This was exactly ...|09 16, 2013|A2074KEJGRYJV4|              hcross|   Great little cord|    1379289600|\n",
      "|B000068NVI|  [0, 0]|    5.0|I bought these be...| 01 6, 2012| A7TRK2GG6BHWD|Johnny Pasta \"Joh...|Does the job. Wha...|    1325808000|\n",
      "|B000068NVI|  [0, 0]|    4.0|This cable seems ...|02 12, 2012|A319B090A2POEB|                 Lee|    Decent mic cable|    1329004800|\n",
      "|B000068NVI|  [0, 0]|    4.0|These are not the...|09 16, 2013|A396ELNTQDFYPO|           Mark King|Decent inexpensiv...|    1379289600|\n",
      "|B000068NVI|  [0, 0]|    4.0|This is a fine ca...|12 15, 2013|A17CU1D2CWXOHB|                Rick|       a fine cable.|    1387065600|\n",
      "|B000068NVI|  [0, 0]|    5.0|I've used a lot o...|09 17, 2013|A1S0HTDO0P4N5V|R. Wristen \"The P...|    Hosa is the best|    1379376000|\n",
      "|B000068NVI|  [0, 0]|    4.0|I bought this cor...|12 14, 2012|A3DWQW2L39RB1S|            S. Dawdy|Excellent quality...|    1355443200|\n",
      "|B000068NVI|  [0, 0]|    5.0|Nice solid cables...|06 29, 2013| AQQ91U1U4YKDF| Vince Lewis \"Vince\"|         great value|    1372464000|\n",
      "|B000068NW5|  [0, 0]|    5.0|Good quality cabl...|07 15, 2014| AA5TINW2RJ195|                null|          Five Stars|    1405382400|\n",
      "|B000068NW5|  [0, 0]|    5.0|Zero issues with ...|03 31, 2012| ABC68JUCPTVOE| A. Fabbri \"afabbri\"|Pretty cheap cabl...|    1333152000|\n",
      "|B000068NW5|  [0, 0]|    5.0|Realtively inexpe...|05 28, 2014|A3W2E6S24BTXXK|    airchamp \"ariel\"|     very nice cable|    1401235200|\n",
      "|B000068NW5|  [0, 0]|    5.0|I bought this bec...|03 13, 2013|A3872Y2XH0YDX1|     Amazon Customer|Nice guitar cable...|    1363132800|\n",
      "|B000068NW5|  [0, 0]|    4.0|This is a very ni...| 01 6, 2014|A398X9POBHK69N|     Ann Vande Zande|  Does What You Want|    1388966400|\n",
      "|B000068NW5|[12, 13]|    4.0|Cheap and good te...|11 18, 2010|A13A81NN0NRD1S|aspiring saint \"T...|flexible, soft ru...|    1290038400|\n",
      "|B000068NW5|  [0, 0]|    5.0|Seems sturdy enou...|06 27, 2013|A1EUO0BU72JR7T|               Bilbo|Works wonderfully...|    1372291200|\n",
      "|B000068NW5|  [0, 0]|    5.0|I'm not a profess...|01 30, 2013|A1H4WSC8JWS59N|             bradley|           excellent|    1359504000|\n",
      "|B000068NW5|  [0, 1]|    5.0|This Hosa Cable i...| 09 5, 2012|A3OXHLG6DIBRW8|       C. Hill \"CFH\"|Great Guitar Cabl...|    1346803200|\n",
      "|B000068NW5|  [2, 2]|    2.0|I didn't expect t...| 07 6, 2011|A12ABV9NU02O29|            C. Longo|    Cannot recommend|    1309910400|\n",
      "|B000068NW5|  [0, 0]|    5.0|Bought this for m...| 03 5, 2014|A2U1Z3TZ4P76JB|            C. Zemer|Cable works as de...|    1393977600|\n",
      "|B000068NW5|  [0, 0]|    1.0|It hums, crackles...| 02 9, 2014|A1L7M2JXN4EZCR|             David G|I have bought man...|    1391904000|\n",
      "|B000068NW5|  [0, 0]|    4.0|I am not hard on ...| 06 8, 2013|A37A41GWQFMK3D|           Dr. Freud|   gets the job done|    1370649600|\n",
      "|B000068NW5|  [0, 0]|    5.0|I have found Hosa...|05 13, 2014|A2JK2ITE138P7Z|            Dr. Marc|Nice cable for th...|    1399939200|\n",
      "|B000068NW5|  [0, 0]|    5.0|This is good cabl...| 10 8, 2013|A1DVUFG2QSJ6IK|     grandpa \"Randy\"|Well made audio c...|    1381190400|\n",
      "|B000068NW5|  [0, 0]|    5.0|Pretty crappy cab...|07 25, 2013|A34VZEFXQJJ7AT|          Guitarslim|                  Eh|    1374710400|\n",
      "|B000068NW5|  [0, 0]|    5.0|I use this cord i...|02 12, 2014|A1SD1C8XK3Z3V1|guitfiddleblue \"g...|great, affordable...|    1392163200|\n",
      "|B000068NW5|  [0, 0]|    4.0|This my second Ho...|04 18, 2014| AKHWZ3S1UVZAO|        Hagen LeBray|          Nice Cable|    1397779200|\n",
      "|B000068NW5|  [0, 0]|    3.0|Works for practic...| 07 5, 2014|A3LNNEYLGGCO25|              Hans R|maybe not the bes...|    1404518400|\n",
      "|B000068NW5|  [0, 0]|    5.0|These cables have...|01 24, 2014| AMACM7BGUQCZD|              IBZANE|High quality low ...|    1390521600|\n",
      "|B000068NW5|  [0, 0]|    5.0|In my opinion it ...|01 13, 2014|A38HMS5RYSYF8G|   James I Van Asten|works as advertis...|    1389571200|\n",
      "|B000068NW5|  [0, 0]|    5.0|Hosa guitar cable...|07 23, 2012| A6D91KPQGIDKZ|  Jim R. \"Photo man\"|         Good cables|    1343001600|\n",
      "|B000068NW5|  [0, 0]|    5.0|This product does...|08 25, 2013|A2RCCN4KEXZGC8|Joe Average \"Joe ...|       No Complaints|    1377388800|\n",
      "|B000068NW5|  [0, 0]|    5.0|Good quality guit...| 07 6, 2013|A3GAP455S8YH0M|Joe's Gadgets \"JO...|        Good Quality|    1373068800|\n",
      "|B000068NW5|  [0, 0]|    5.0|This is a good so...| 02 3, 2014|A1N06X05VZWO5Y|          Joe Toland|Perfect for pract...|    1391385600|\n",
      "|B000068NW5|  [3, 3]|    5.0|This guitar cable...|12 29, 2010|A3TA1UJWRJF9NC|       jschristian44|Nice high quality...|    1293580800|\n",
      "|B000068NW5|  [0, 0]|    4.0|Good product at a...|01 25, 2013|A3VPISTBNS66C5|            k2review|          Works well|    1359072000|\n",
      "|B000068NW5|  [0, 0]|    5.0|This item is well...|07 15, 2013|A1E5FQZTUM8OC1|             Kenwood|    Well built cable|    1373846400|\n",
      "|B000068NW5|  [0, 0]|    5.0|This amp plug is ...|08 29, 2013|A3MYWHYZ30WLQJ|             kyle c.|pperfect amp chor...|    1377734400|\n",
      "|B000068NW5|  [0, 0]|    5.0|Hosa Cable GTR210...| 02 4, 2013|A1FHOW9NVOH8XR|                 Lee|Hosa Cable GTR210...|    1359936000|\n",
      "|B000068NW5|  [0, 0]|    3.0|...unbalanced gui...|02 12, 2012|A319B090A2POEB|                 Lee|Standard guitar c...|    1329004800|\n",
      "|B000068NW5|  [0, 0]|    5.0|This is your basi...|01 16, 2014|A2VH0UT5EQFB6P|          Loveguitar|Hosa Electric Gui...|    1389830400|\n",
      "|B000068NW5|  [0, 0]|    4.0|Hosa cable qualit...|01 21, 2013|A396ELNTQDFYPO|           Mark King|      So Far So Good|    1358726400|\n",
      "|B000068NW5|  [0, 1]|    3.0|It's a cable, no ...|02 26, 2014|A2WYAHJGST6AOT|                Matt|       average cable|    1393372800|\n",
      "|B000068NW5|  [0, 0]|    5.0|I never really co...| 10 4, 2013| A781ITP3HE2N5|Michael Livote \"d...|Good quality, low...|    1380844800|\n",
      "|B000068NW5|  [2, 2]|    3.0|One end was loose...|06 14, 2013| AN73VQ17FZVJ8|                 MJK|  Good for the Price|    1371168000|\n",
      "|B000068NW5|  [6, 6]|    4.0|For the price, fa...|04 17, 2012| ALUTHT4U058KZ|       M. M. Jackson|Feel a little fli...|    1334620800|\n",
      "|B000068NW5|  [0, 0]|    5.0|Hosa makes good s...|07 10, 2014|A1A15ECLHM9BQY|                Nick|           Excellent|    1404950400|\n",
      "|B000068NW5|  [0, 0]|    4.0|Only complaint is...|06 28, 2014|A1S8R9OAIQT7YI|     patriotsarebest|Only complaint is...|    1403913600|\n",
      "|B000068NW5|  [0, 0]|    5.0|Hard to day too m...|09 23, 2013|A3RHT4KI3H5TVH|                pops|            worth it|    1379894400|\n",
      "|B000068NW5|  [0, 0]|    5.0|For the price, th...| 01 8, 2013| AVY8D3ULJTX0H|          P. Panehal|               Works|    1357603200|\n",
      "|B000068NW5|  [0, 0]|    5.0|This cable dispro...| 11 2, 2011|A15BHBF0L0HV1F|Quaestor \"Raoul D...|Good quality, gre...|    1320192000|\n",
      "|B000068NW5|  [0, 0]|    5.0|I was looking for...| 11 8, 2013|A1AFN4T80DZ3RR|              Quique|Very good quality...|    1383868800|\n",
      "|B000068NW5|  [0, 0]|    5.0|These are Good ca...|05 22, 2013| A3DCG2MNPR4BW|        RAYON ORMOND|Good cables at a ...|    1369180800|\n",
      "|B000068NW5|  [0, 0]|    5.0|very sturdy, high...|06 16, 2014|A3NGAQKJ6X088B|R. Beckmeyer \"Pos...|works well, great...|    1402876800|\n",
      "|B000068NW5|  [0, 0]|    5.0|Unless you're goi...| 09 7, 2012|A35XRT4BW4I6UD|   Richard R. Casper|         Great Value|    1346976000|\n",
      "|B000068NW5|  [0, 0]|    5.0|I have many lengt...|10 10, 2013| AKYDGCKCY7H9F|R. W. Milyard \"Ge...|         Good cables|    1381363200|\n",
      "|B000068NW5|  [4, 4]|    4.0|I've been using t...|01 21, 2011|A19NGYCQ1NCF3W|            S. Haney|   Very Solid Cables|    1295568000|\n",
      "|B000068NW5|  [0, 0]|    1.0|I'm a pro-cheapo ...|03 14, 2014|A3UD50M7M72150|        synthezatory|                Crap|    1394755200|\n",
      "|B000068NW5|  [0, 0]|    5.0|Works great on my...| 02 4, 2012|A2B78RXJ2PB6ZD|                 Tom|Works Good. No co...|    1328313600|\n",
      "|B000068NW5|  [0, 0]|    5.0|Good cable, as go...|12 10, 2013|A18RGYRCEN181M|              Truvor|   Good guitar cable|    1386633600|\n",
      "|B000068NW5|  [0, 0]|    5.0|I own lots of hos...|02 15, 2013|A18LZ6VHS4DK69|       Wesley Newell|          hosa rocks|    1360886400|\n",
      "|B000068NZC|  [0, 0]|    3.0|It is a decent ca...|03 26, 2014| AQG6AQXC703WD|                 Bob|        Does Its Job|    1395792000|\n",
      "|B000068NZC|  [0, 0]|    5.0|the cable is grea...|06 30, 2013|A2YGWCX3DQ6ER0|   Christian Morales|good for direct c...|    1372550400|\n",
      "|B000068NZC|  [3, 3]|    5.0|Bought this to ho...| 12 6, 2011|A21VM9WVF8EOSJ|  J. Warren \"NiALTA\"|Does what it was ...|    1323129600|\n",
      "|B000068NZC|  [3, 3]|    5.0|Just received thi...|04 25, 2012|A3M48SSAOTBSMW|L. Rapoport \"lenr...|   Works as expected|    1335312000|\n",
      "|B000068NZC|  [0, 0]|    4.0|If you're like me...| 04 7, 2014| AFLRU6952DEFX|                  S.|  Good for some uses|    1396828800|\n",
      "|B000068NZC|  [0, 0]|    2.0|I bought this for...|09 16, 2013|A1W3CEEQBJ4GTN|          S. Marchuk|Measure your damn...|    1379289600|\n",
      "|B000068NZC|  [0, 0]|    5.0|Well made, XLR 3 ...|05 26, 2013| AXP9CF1UTFRSU|                tada|           Recommend|    1369526400|\n",
      "+----------+--------+-------+--------------------+-----------+--------------+--------------------+--------------------+--------------+\n",
      "only showing top 100 rows\n",
      "\n"
     ]
    }
   ],
   "source": [
    "data = spark.read.json(\"Musical_Instruments_5.json\")\n",
    "data.show(100,truncate=True)"
   ]
  },
  {
   "cell_type": "code",
   "execution_count": 18,
   "metadata": {},
   "outputs": [
    {
     "name": "stdout",
     "output_type": "stream",
     "text": [
      "Number of Rows: 10261\n"
     ]
    }
   ],
   "source": [
    "print(\"Number of Rows:\" , data.count())"
   ]
  },
  {
   "cell_type": "code",
   "execution_count": 19,
   "metadata": {},
   "outputs": [
    {
     "name": "stdout",
     "output_type": "stream",
     "text": [
      "Number of columns: 9\n"
     ]
    }
   ],
   "source": [
    "print(\"Number of columns:\", len(data.columns))"
   ]
  },
  {
   "cell_type": "code",
   "execution_count": 20,
   "metadata": {},
   "outputs": [
    {
     "data": {
      "text/html": [
       "<div>\n",
       "<style scoped>\n",
       "    .dataframe tbody tr th:only-of-type {\n",
       "        vertical-align: middle;\n",
       "    }\n",
       "\n",
       "    .dataframe tbody tr th {\n",
       "        vertical-align: top;\n",
       "    }\n",
       "\n",
       "    .dataframe thead th {\n",
       "        text-align: right;\n",
       "    }\n",
       "</style>\n",
       "<table border=\"1\" class=\"dataframe\">\n",
       "  <thead>\n",
       "    <tr style=\"text-align: right;\">\n",
       "      <th></th>\n",
       "      <th>asin</th>\n",
       "      <th>helpful</th>\n",
       "      <th>overall</th>\n",
       "      <th>reviewText</th>\n",
       "      <th>reviewTime</th>\n",
       "      <th>reviewerID</th>\n",
       "      <th>reviewerName</th>\n",
       "      <th>summary</th>\n",
       "      <th>unixReviewTime</th>\n",
       "    </tr>\n",
       "  </thead>\n",
       "  <tbody>\n",
       "    <tr>\n",
       "      <th>0</th>\n",
       "      <td>0</td>\n",
       "      <td>0</td>\n",
       "      <td>0</td>\n",
       "      <td>0</td>\n",
       "      <td>0</td>\n",
       "      <td>0</td>\n",
       "      <td>27</td>\n",
       "      <td>0</td>\n",
       "      <td>0</td>\n",
       "    </tr>\n",
       "  </tbody>\n",
       "</table>\n",
       "</div>"
      ],
      "text/plain": [
       "   asin  helpful  overall  reviewText  reviewTime  reviewerID  reviewerName  \\\n",
       "0     0        0        0           0           0           0            27   \n",
       "\n",
       "   summary  unixReviewTime  \n",
       "0        0               0  "
      ]
     },
     "execution_count": 20,
     "metadata": {},
     "output_type": "execute_result"
    }
   ],
   "source": [
    "from pyspark.sql.functions import isnull, when, count, col\n",
    "nullCounts = data.select([count(when(isnull(c), c)).alias(c) for c in data.columns]).toPandas()\n",
    "nullCounts"
   ]
  },
  {
   "cell_type": "code",
   "execution_count": 21,
   "metadata": {},
   "outputs": [],
   "source": [
    "df=data\n",
    "df1=df.toPandas()"
   ]
  },
  {
   "cell_type": "code",
   "execution_count": 22,
   "metadata": {},
   "outputs": [
    {
     "data": {
      "text/plain": [
       "array([[<matplotlib.axes._subplots.AxesSubplot object at 0x7f772fcccfd0>]],\n",
       "      dtype=object)"
      ]
     },
     "execution_count": 22,
     "metadata": {},
     "output_type": "execute_result"
    },
    {
     "data": {
      "image/png": "[encoded data removed]",
      "text/plain": [
       "<Figure size 432x288 with 1 Axes>"
      ]
     },
     "metadata": {
      "needs_background": "light"
     },
     "output_type": "display_data"
    }
   ],
   "source": [
    "df1.hist('unixReviewTime',bins=30,color='red')"
   ]
  },
  {
   "cell_type": "code",
   "execution_count": 23,
   "metadata": {},
   "outputs": [
    {
     "data": {
      "text/plain": [
       "array([[<matplotlib.axes._subplots.AxesSubplot object at 0x7f772f0e1208>]],\n",
       "      dtype=object)"
      ]
     },
     "execution_count": 23,
     "metadata": {},
     "output_type": "execute_result"
    },
    {
     "data": {
      "image/png": "[encoded data removed]",
      "text/plain": [
       "<Figure size 432x288 with 1 Axes>"
      ]
     },
     "metadata": {
      "needs_background": "light"
     },
     "output_type": "display_data"
    }
   ],
   "source": [
    "df1.hist('overall')"
   ]
  },
  {
   "cell_type": "code",
   "execution_count": 24,
   "metadata": {},
   "outputs": [],
   "source": [
    "import datetime\n",
    "import pandas as pd\n",
    "df1['year'] = pd.DatetimeIndex(df1['reviewTime']).year"
   ]
  },
  {
   "cell_type": "code",
   "execution_count": 25,
   "metadata": {},
   "outputs": [
    {
     "data": {
      "text/plain": [
       "array([[<matplotlib.axes._subplots.AxesSubplot object at 0x7f772f979ba8>]],\n",
       "      dtype=object)"
      ]
     },
     "execution_count": 25,
     "metadata": {},
     "output_type": "execute_result"
    },
    {
     "data": {
      "image/png": "[encoded data removed]",
      "text/plain": [
       "<Figure size 432x288 with 1 Axes>"
      ]
     },
     "metadata": {
      "needs_background": "light"
     },
     "output_type": "display_data"
    }
   ],
   "source": [
    "df1.hist(\"year\",bins=40)"
   ]
  },
  {
   "cell_type": "markdown",
   "metadata": {},
   "source": [
    "# Recommendation Engine\n"
   ]
  },
  {
   "cell_type": "code",
   "execution_count": 26,
   "metadata": {},
   "outputs": [
    {
     "name": "stdout",
     "output_type": "stream",
     "text": [
      "+----------+--------------+-------+\n",
      "|      asin|    reviewerID|overall|\n",
      "+----------+--------------+-------+\n",
      "|1384719342|A2IBPI20UZIR0U|    5.0|\n",
      "|1384719342|A14VAT5EAX3D9S|    5.0|\n",
      "|1384719342|A195EZSQDW3E21|    5.0|\n",
      "|1384719342|A2C00NNG1ZQQG2|    5.0|\n",
      "|1384719342| A94QU4C90B1AX|    5.0|\n",
      "|B00004Y2UT|A2A039TZMZHH9Y|    5.0|\n",
      "|B00004Y2UT|A1UPZM995ZAH90|    5.0|\n",
      "|B00004Y2UT| AJNFQI3YR6XJ5|    3.0|\n",
      "|B00004Y2UT|A3M1PLEYNDEYO8|    5.0|\n",
      "|B00004Y2UT| AMNTZU1YQN1TH|    5.0|\n",
      "|B00004Y2UT|A2NYK9KWFMJV4Y|    5.0|\n",
      "|B00005ML71|A35QFQI0M46LWO|    4.0|\n",
      "|B00005ML71|A2NIT6BKW11XJQ|    3.0|\n",
      "|B00005ML71|A1C0O09LOLVI39|    5.0|\n",
      "|B00005ML71|A17SLR18TUMULM|    5.0|\n",
      "|B00005ML71|A2PD27UKAD3Q00|    2.0|\n",
      "|B000068NSX| AKSFZ4G1AXYFC|    4.0|\n",
      "|B000068NSX| A67OJZLHBBUQ9|    5.0|\n",
      "|B000068NSX|A2EZWZ8MBEDOLN|    5.0|\n",
      "|B000068NSX|A1CL807EOUPVP1|    5.0|\n",
      "+----------+--------------+-------+\n",
      "only showing top 20 rows\n",
      "\n"
     ]
    }
   ],
   "source": [
    "data=df.select(df['asin'],df['reviewerID'],df['overall'])\n",
    "data.show()"
   ]
  },
  {
   "cell_type": "code",
   "execution_count": 27,
   "metadata": {},
   "outputs": [],
   "source": [
    "from pyspark.ml.evaluation import RegressionEvaluator\n",
    "from pyspark.ml.recommendation import ALS"
   ]
  },
  {
   "cell_type": "code",
   "execution_count": 28,
   "metadata": {},
   "outputs": [
    {
     "name": "stdout",
     "output_type": "stream",
     "text": [
      "+----------+--------------+-------+----------------+----------+\n",
      "|      asin|    reviewerID|overall|reviewerID_index|asin_index|\n",
      "+----------+--------------+-------+----------------+----------+\n",
      "|1384719342|A2IBPI20UZIR0U|    5.0|            72.0|     781.0|\n",
      "|1384719342|A14VAT5EAX3D9S|    5.0|           359.0|     781.0|\n",
      "|1384719342|A195EZSQDW3E21|    5.0|           436.0|     781.0|\n",
      "|1384719342|A2C00NNG1ZQQG2|    5.0|          1216.0|     781.0|\n",
      "|1384719342| A94QU4C90B1AX|    5.0|          1137.0|     781.0|\n",
      "|B00004Y2UT|A2A039TZMZHH9Y|    5.0|            54.0|     629.0|\n",
      "|B00004Y2UT|A1UPZM995ZAH90|    5.0|           348.0|     629.0|\n",
      "|B00004Y2UT| AJNFQI3YR6XJ5|    3.0|           324.0|     629.0|\n",
      "|B00004Y2UT|A3M1PLEYNDEYO8|    5.0|            12.0|     629.0|\n",
      "|B00004Y2UT| AMNTZU1YQN1TH|    5.0|           185.0|     629.0|\n",
      "|B00004Y2UT|A2NYK9KWFMJV4Y|    5.0|             4.0|     629.0|\n",
      "|B00005ML71|A35QFQI0M46LWO|    4.0|           425.0|     870.0|\n",
      "|B00005ML71|A2NIT6BKW11XJQ|    3.0|           652.0|     870.0|\n",
      "|B00005ML71|A1C0O09LOLVI39|    5.0|            55.0|     870.0|\n",
      "|B00005ML71|A17SLR18TUMULM|    5.0|           651.0|     870.0|\n",
      "|B00005ML71|A2PD27UKAD3Q00|    2.0|           290.0|     870.0|\n",
      "|B000068NSX| AKSFZ4G1AXYFC|    4.0|            93.0|     538.0|\n",
      "|B000068NSX| A67OJZLHBBUQ9|    5.0|           258.0|     538.0|\n",
      "|B000068NSX|A2EZWZ8MBEDOLN|    5.0|             3.0|     538.0|\n",
      "|B000068NSX|A1CL807EOUPVP1|    5.0|            31.0|     538.0|\n",
      "+----------+--------------+-------+----------------+----------+\n",
      "only showing top 20 rows\n",
      "\n"
     ]
    }
   ],
   "source": [
    "from pyspark.ml import Pipeline\n",
    "from pyspark.sql.functions import col\n",
    "from pyspark.ml.feature import StringIndexer\n",
    "\n",
    "\n",
    "indexer = [StringIndexer(inputCol=column, outputCol=column+\"_index\") for column in list(set(data.columns)-set(['overall'])) ]\n",
    "pipeline = Pipeline(stages=indexer)\n",
    "transformed = pipeline.fit(data).transform(data)\n",
    "transformed.show()"
   ]
  },
  {
   "cell_type": "code",
   "execution_count": 29,
   "metadata": {},
   "outputs": [],
   "source": [
    "(training,testing)=transformed.randomSplit([0.7, 0.3])"
   ]
  },
  {
   "cell_type": "code",
   "execution_count": 30,
   "metadata": {},
   "outputs": [],
   "source": [
    "alsmodel=ALS(regParam=0.09,rank=25,maxIter=5,userCol=\"reviewerID_index\",itemCol=\"asin_index\",ratingCol=\"overall\",coldStartStrategy=\"drop\",nonnegative=True)\n",
    "model=alsmodel.fit(training)"
   ]
  },
  {
   "cell_type": "code",
   "execution_count": 31,
   "metadata": {},
   "outputs": [
    {
     "name": "stdout",
     "output_type": "stream",
     "text": [
      "Root Mean Square error Value=1.2748521366443937\n",
      "+----------+--------------+-------+----------------+----------+----------+\n",
      "|      asin|    reviewerID|overall|reviewerID_index|asin_index|prediction|\n",
      "+----------+--------------+-------+----------------+----------+----------+\n",
      "|B000CCJP4I| A4BTCECGQAIUI|    4.0|            34.0|     148.0| 3.3795679|\n",
      "|B000CCJP4I| AJ3MI4QT7339J|    5.0|           847.0|     148.0| 2.8913832|\n",
      "|B000CCJP4I|A3J8U952XAL34Z|    5.0|           502.0|     148.0| 4.4617605|\n",
      "|B000CCJP4I|A12P4A1OC41KUO|    3.0|           344.0|     148.0| 3.7280803|\n",
      "|B000CCJP4I| ADH0O8UVJOT10|    5.0|             0.0|     148.0|  4.920857|\n",
      "|B000KIPTE4|A3F49ZMUC1GSRP|    4.0|          1165.0|     463.0| 4.5564685|\n",
      "|B000KIPTE4|A2EZWZ8MBEDOLN|    5.0|             3.0|     463.0| 4.4081445|\n",
      "|B000KIPTE4|A37E0KYNJQNP1E|    5.0|           408.0|     463.0| 4.5930133|\n",
      "|B001OLZYUU| AKT2VSLZHDD81|    5.0|           205.0|     471.0|  4.662411|\n",
      "|B001OLZYUU| A3FQ9WYUHG9CD|    4.0|           264.0|     471.0|  3.482528|\n",
      "|B001OLZYUU|A1MH7LD4Y203Q5|    5.0|           249.0|     471.0| 3.7993314|\n",
      "|B0002GZ052|A26HM2R5529NYY|    5.0|           822.0|     496.0| 3.8744466|\n",
      "|B0002GZ052|A1JN3UIUZAHF7V|    5.0|           190.0|     496.0| 4.2206597|\n",
      "|B0002GZ052| AQK01UMFP9MND|    5.0|          1070.0|     496.0|  4.286716|\n",
      "|B00074WFO8|A2SREOQJ9OEDLE|    5.0|           692.0|     833.0|  4.961215|\n",
      "|B000BKY8CU|A2UX9BF36MYEXK|    5.0|           319.0|     243.0| 3.6033585|\n",
      "|B000BKY8CU| AXWB93VKVML6K|    5.0|           810.0|     243.0| 3.0280626|\n",
      "|B000RPUMII| ANAKK5KNUAP17|    1.0|           663.0|     392.0|   5.36931|\n",
      "|B000RPUMII| A2MR43RDPZX3J|    4.0|            90.0|     392.0|  4.835823|\n",
      "|B000RPUMII|A1RI71C4IQZZGF|    5.0|           248.0|     392.0| 5.7628627|\n",
      "+----------+--------------+-------+----------------+----------+----------+\n",
      "only showing top 20 rows\n",
      "\n"
     ]
    }
   ],
   "source": [
    "reg_evaluator=RegressionEvaluator(metricName=\"rmse\",labelCol=\"overall\",predictionCol=\"prediction\")\n",
    "prediction=model.transform(testing)\n",
    "rmse_value=reg_evaluator.evaluate(prediction)\n",
    "print(\"Root Mean Square error Value=\"+str(rmse_value))\n",
    "prediction.show()"
   ]
  },
  {
   "cell_type": "code",
   "execution_count": 32,
   "metadata": {},
   "outputs": [
    {
     "name": "stdout",
     "output_type": "stream",
     "text": [
      "+----------------+--------------------+\n",
      "|reviewerID_index|     recommendations|\n",
      "+----------------+--------------------+\n",
      "|             471|[[465, 5.924256],...|\n",
      "|            1342|[[771, 7.0282116]...|\n",
      "|             463|[[738, 5.712733],...|\n",
      "|             833|[[738, 6.529595],...|\n",
      "|             496|[[427, 5.697929],...|\n",
      "|             148|[[771, 5.876934],...|\n",
      "|            1088|[[392, 4.0636272]...|\n",
      "|            1238|[[771, 6.0294123]...|\n",
      "|             540|[[624, 5.103867],...|\n",
      "|             392|[[793, 5.182935],...|\n",
      "|             243|[[465, 5.488746],...|\n",
      "|             623|[[427, 5.5891], [...|\n",
      "|            1084|[[859, 5.6243157]...|\n",
      "|            1025|[[771, 5.772807],...|\n",
      "|            1395|[[793, 4.903931],...|\n",
      "|             737|[[738, 5.326231],...|\n",
      "|             897|[[771, 5.4010506]...|\n",
      "|            1127|[[852, 6.133562],...|\n",
      "|             858|[[653, 5.017395],...|\n",
      "|            1270|[[771, 5.021954],...|\n",
      "+----------------+--------------------+\n",
      "only showing top 20 rows\n",
      "\n"
     ]
    }
   ],
   "source": [
    "users_recommendations=model.recommendForAllUsers(20).show()"
   ]
  },
  {
   "cell_type": "code",
   "execution_count": 33,
   "metadata": {},
   "outputs": [
    {
     "name": "stderr",
     "output_type": "stream",
     "text": [
      "/home/thunderwolf/.local/lib/python3.6/site-packages/ipykernel_launcher.py:25: SettingWithCopyWarning: \n",
      "A value is trying to be set on a copy of a slice from a DataFrame.\n",
      "Try using .loc[row_indexer,col_indexer] = value instead\n",
      "\n",
      "See the caveats in the documentation: https://pandas.pydata.org/pandas-docs/stable/user_guide/indexing.html#returning-a-view-versus-a-copy\n"
     ]
    },
    {
     "name": "stdout",
     "output_type": "stream",
     "text": [
      "                 reviewerID                                    recommendations\n",
      "0     A00625243BI8W1SSZNLMD  [(B0010CHS8E, 5.858282566070557), (B004J27QXY,...\n",
      "1            A10044ECXDUVKS  [(B0002E5518, 4.9952778816223145), (B0002M6CVC...\n",
      "2            A102MU6ZC9H1N6  [(B0002CZVHI, 5.575512886047363), (B0010CHS8E,...\n",
      "3            A109JTUZXO61UY  [(B00F2PKRJW, 5.867031574249268), (B0002CZVHI,...\n",
      "4            A109ME7C09HM2M  [(B000KGYAYQ, 5.502983570098877), (B001L8IJ0I,...\n",
      "...                     ...                                                ...\n",
      "1420          AZJPNK73JF3XP  [(B000EPVXWU, 5.3978118896484375), (B001D2TPZU...\n",
      "1421          AZMHABTPXVLG3  [(B002QKRUJG, 3.8490774631500244), (B0002E1OVS...\n",
      "1422          AZMIKIG4BB6BZ  [(B00186L9X2, 5.234279155731201), (B0007OGTGS,...\n",
      "1423          AZPDO6FLSMLFP  [(B005EHILV4, 4.830984115600586), (B0010CHS8E,...\n",
      "1424          AZVME8JMPD3F4  [(B005M0CK9M, 4.67808723449707), (B0038MTH8S, ...\n",
      "\n",
      "[1425 rows x 2 columns]\n"
     ]
    }
   ],
   "source": [
    "import pandas as pd\n",
    "recommend=model.recommendForAllUsers(10).toPandas()\n",
    "recommends=recommend.recommendations.apply(pd.Series) \\\n",
    "            .merge(recommend, right_index = True, left_index = True) \\\n",
    "            .drop([\"recommendations\"], axis = 1) \\\n",
    "            .melt(id_vars = ['reviewerID_index'], value_name = \"recommendation\") \\\n",
    "            .drop(\"variable\", axis = 1) \\\n",
    "            .dropna() \n",
    "recommends=recommends.sort_values('reviewerID_index')\n",
    "recommends=pd.concat([recommends['recommendation'].apply(pd.Series), recommends['reviewerID_index']], axis = 1)\n",
    "recommends.columns = [\n",
    "        'ProductID_index',\n",
    "        'Rating',\n",
    "        'UserID_index'\n",
    "     ]\n",
    "dataf=transformed.select(transformed['reviewerID'],transformed['reviewerID_index'],transformed['asin'],transformed['asin_index'])\n",
    "dataf=dataf.toPandas()\n",
    "data1 =dict(zip(dataf['reviewerID_index'],dataf['reviewerID']))\n",
    "data2=dict(zip(dataf['asin_index'],dataf['asin']))\n",
    "recommends['reviewerID']=recommends['UserID_index'].map(data1)\n",
    "recommends['asin']=recommends['ProductID_index'].map(data2)\n",
    "recommends=recommends.sort_values('reviewerID')\n",
    "recommends.reset_index(drop=True, inplace=True)\n",
    "newdata=recommends[['reviewerID','asin','Rating']]\n",
    "newdata['recommendations'] = list(zip(newdata.asin, newdata.Rating))\n",
    "data3=newdata[['reviewerID','recommendations']]  \n",
    "data_new=data3['recommendations'].groupby([data3.reviewerID]).apply(list).reset_index()\n",
    "print(data_new)"
   ]
  },
  {
   "cell_type": "code",
   "execution_count": 34,
   "metadata": {},
   "outputs": [],
   "source": [
    "import nltk"
   ]
  },
  {
   "cell_type": "code",
   "execution_count": 35,
   "metadata": {},
   "outputs": [],
   "source": [
    "import seaborn as sns\n",
    "import matplotlib.pyplot as plt\n",
    "from IPython.display import display\n",
    "import os\n",
    "from time import time\n",
    "import sys"
   ]
  },
  {
   "cell_type": "code",
   "execution_count": 36,
   "metadata": {},
   "outputs": [
    {
     "data": {
      "text/html": [
       "<div>\n",
       "<style scoped>\n",
       "    .dataframe tbody tr th:only-of-type {\n",
       "        vertical-align: middle;\n",
       "    }\n",
       "\n",
       "    .dataframe tbody tr th {\n",
       "        vertical-align: top;\n",
       "    }\n",
       "\n",
       "    .dataframe thead th {\n",
       "        text-align: right;\n",
       "    }\n",
       "</style>\n",
       "<table border=\"1\" class=\"dataframe\">\n",
       "  <thead>\n",
       "    <tr style=\"text-align: right;\">\n",
       "      <th></th>\n",
       "      <th>asin</th>\n",
       "      <th>helpful</th>\n",
       "      <th>overall</th>\n",
       "      <th>reviewText</th>\n",
       "      <th>reviewTime</th>\n",
       "      <th>reviewerID</th>\n",
       "      <th>reviewerName</th>\n",
       "      <th>summary</th>\n",
       "      <th>unixReviewTime</th>\n",
       "    </tr>\n",
       "  </thead>\n",
       "  <tbody>\n",
       "    <tr>\n",
       "      <th>0</th>\n",
       "      <td>1384719342</td>\n",
       "      <td>[0, 0]</td>\n",
       "      <td>5.0</td>\n",
       "      <td>Not much to write about here, but it does exac...</td>\n",
       "      <td>02 28, 2014</td>\n",
       "      <td>A2IBPI20UZIR0U</td>\n",
       "      <td>cassandra tu \"Yeah, well, that's just like, u...</td>\n",
       "      <td>good</td>\n",
       "      <td>1393545600</td>\n",
       "    </tr>\n",
       "    <tr>\n",
       "      <th>1</th>\n",
       "      <td>1384719342</td>\n",
       "      <td>[13, 14]</td>\n",
       "      <td>5.0</td>\n",
       "      <td>The product does exactly as it should and is q...</td>\n",
       "      <td>03 16, 2013</td>\n",
       "      <td>A14VAT5EAX3D9S</td>\n",
       "      <td>Jake</td>\n",
       "      <td>Jake</td>\n",
       "      <td>1363392000</td>\n",
       "    </tr>\n",
       "    <tr>\n",
       "      <th>2</th>\n",
       "      <td>1384719342</td>\n",
       "      <td>[1, 1]</td>\n",
       "      <td>5.0</td>\n",
       "      <td>The primary job of this device is to block the...</td>\n",
       "      <td>08 28, 2013</td>\n",
       "      <td>A195EZSQDW3E21</td>\n",
       "      <td>Rick Bennette \"Rick Bennette\"</td>\n",
       "      <td>It Does The Job Well</td>\n",
       "      <td>1377648000</td>\n",
       "    </tr>\n",
       "    <tr>\n",
       "      <th>3</th>\n",
       "      <td>1384719342</td>\n",
       "      <td>[0, 0]</td>\n",
       "      <td>5.0</td>\n",
       "      <td>Nice windscreen protects my MXL mic and preven...</td>\n",
       "      <td>02 14, 2014</td>\n",
       "      <td>A2C00NNG1ZQQG2</td>\n",
       "      <td>RustyBill \"Sunday Rocker\"</td>\n",
       "      <td>GOOD WINDSCREEN FOR THE MONEY</td>\n",
       "      <td>1392336000</td>\n",
       "    </tr>\n",
       "    <tr>\n",
       "      <th>4</th>\n",
       "      <td>1384719342</td>\n",
       "      <td>[0, 0]</td>\n",
       "      <td>5.0</td>\n",
       "      <td>This pop filter is great. It looks and perform...</td>\n",
       "      <td>02 21, 2014</td>\n",
       "      <td>A94QU4C90B1AX</td>\n",
       "      <td>SEAN MASLANKA</td>\n",
       "      <td>No more pops when I record my vocals.</td>\n",
       "      <td>1392940800</td>\n",
       "    </tr>\n",
       "    <tr>\n",
       "      <th>...</th>\n",
       "      <td>...</td>\n",
       "      <td>...</td>\n",
       "      <td>...</td>\n",
       "      <td>...</td>\n",
       "      <td>...</td>\n",
       "      <td>...</td>\n",
       "      <td>...</td>\n",
       "      <td>...</td>\n",
       "      <td>...</td>\n",
       "    </tr>\n",
       "    <tr>\n",
       "      <th>10256</th>\n",
       "      <td>B00JBIVXGC</td>\n",
       "      <td>[0, 0]</td>\n",
       "      <td>5.0</td>\n",
       "      <td>Great, just as expected.  Thank to all.</td>\n",
       "      <td>07 20, 2014</td>\n",
       "      <td>A14B2YH83ZXMPP</td>\n",
       "      <td>Lonnie M. Adams</td>\n",
       "      <td>Five Stars</td>\n",
       "      <td>1405814400</td>\n",
       "    </tr>\n",
       "    <tr>\n",
       "      <th>10257</th>\n",
       "      <td>B00JBIVXGC</td>\n",
       "      <td>[0, 0]</td>\n",
       "      <td>5.0</td>\n",
       "      <td>I've been thinking about trying the Nanoweb st...</td>\n",
       "      <td>07 2, 2014</td>\n",
       "      <td>A1RPTVW5VEOSI</td>\n",
       "      <td>Michael J. Edelman</td>\n",
       "      <td>Long life, and for some players, a good econom...</td>\n",
       "      <td>1404259200</td>\n",
       "    </tr>\n",
       "    <tr>\n",
       "      <th>10258</th>\n",
       "      <td>B00JBIVXGC</td>\n",
       "      <td>[0, 0]</td>\n",
       "      <td>4.0</td>\n",
       "      <td>I have tried coated strings in the past ( incl...</td>\n",
       "      <td>07 22, 2014</td>\n",
       "      <td>AWCJ12KBO5VII</td>\n",
       "      <td>Michael L. Knapp</td>\n",
       "      <td>Good for coated.</td>\n",
       "      <td>1405987200</td>\n",
       "    </tr>\n",
       "    <tr>\n",
       "      <th>10259</th>\n",
       "      <td>B00JBIVXGC</td>\n",
       "      <td>[0, 0]</td>\n",
       "      <td>4.0</td>\n",
       "      <td>Well, MADE by Elixir and DEVELOPED with Taylor...</td>\n",
       "      <td>07 1, 2014</td>\n",
       "      <td>A2Z7S8B5U4PAKJ</td>\n",
       "      <td>Rick Langdon \"Scriptor\"</td>\n",
       "      <td>Taylor Made</td>\n",
       "      <td>1404172800</td>\n",
       "    </tr>\n",
       "    <tr>\n",
       "      <th>10260</th>\n",
       "      <td>B00JBIVXGC</td>\n",
       "      <td>[0, 0]</td>\n",
       "      <td>4.0</td>\n",
       "      <td>These strings are really quite good, but I wou...</td>\n",
       "      <td>07 16, 2014</td>\n",
       "      <td>A2WA8TDCTGUADI</td>\n",
       "      <td>TheTerrorBeyond</td>\n",
       "      <td>These strings are really quite good, but I wou...</td>\n",
       "      <td>1405468800</td>\n",
       "    </tr>\n",
       "  </tbody>\n",
       "</table>\n",
       "<p>10261 rows × 9 columns</p>\n",
       "</div>"
      ],
      "text/plain": [
       "             asin   helpful  overall  \\\n",
       "0      1384719342    [0, 0]      5.0   \n",
       "1      1384719342  [13, 14]      5.0   \n",
       "2      1384719342    [1, 1]      5.0   \n",
       "3      1384719342    [0, 0]      5.0   \n",
       "4      1384719342    [0, 0]      5.0   \n",
       "...           ...       ...      ...   \n",
       "10256  B00JBIVXGC    [0, 0]      5.0   \n",
       "10257  B00JBIVXGC    [0, 0]      5.0   \n",
       "10258  B00JBIVXGC    [0, 0]      4.0   \n",
       "10259  B00JBIVXGC    [0, 0]      4.0   \n",
       "10260  B00JBIVXGC    [0, 0]      4.0   \n",
       "\n",
       "                                              reviewText   reviewTime  \\\n",
       "0      Not much to write about here, but it does exac...  02 28, 2014   \n",
       "1      The product does exactly as it should and is q...  03 16, 2013   \n",
       "2      The primary job of this device is to block the...  08 28, 2013   \n",
       "3      Nice windscreen protects my MXL mic and preven...  02 14, 2014   \n",
       "4      This pop filter is great. It looks and perform...  02 21, 2014   \n",
       "...                                                  ...          ...   \n",
       "10256            Great, just as expected.  Thank to all.  07 20, 2014   \n",
       "10257  I've been thinking about trying the Nanoweb st...   07 2, 2014   \n",
       "10258  I have tried coated strings in the past ( incl...  07 22, 2014   \n",
       "10259  Well, MADE by Elixir and DEVELOPED with Taylor...   07 1, 2014   \n",
       "10260  These strings are really quite good, but I wou...  07 16, 2014   \n",
       "\n",
       "           reviewerID                                      reviewerName  \\\n",
       "0      A2IBPI20UZIR0U  cassandra tu \"Yeah, well, that's just like, u...   \n",
       "1      A14VAT5EAX3D9S                                              Jake   \n",
       "2      A195EZSQDW3E21                     Rick Bennette \"Rick Bennette\"   \n",
       "3      A2C00NNG1ZQQG2                         RustyBill \"Sunday Rocker\"   \n",
       "4       A94QU4C90B1AX                                     SEAN MASLANKA   \n",
       "...               ...                                               ...   \n",
       "10256  A14B2YH83ZXMPP                                   Lonnie M. Adams   \n",
       "10257   A1RPTVW5VEOSI                                Michael J. Edelman   \n",
       "10258   AWCJ12KBO5VII                                  Michael L. Knapp   \n",
       "10259  A2Z7S8B5U4PAKJ                           Rick Langdon \"Scriptor\"   \n",
       "10260  A2WA8TDCTGUADI                                   TheTerrorBeyond   \n",
       "\n",
       "                                                 summary  unixReviewTime  \n",
       "0                                                   good      1393545600  \n",
       "1                                                   Jake      1363392000  \n",
       "2                                   It Does The Job Well      1377648000  \n",
       "3                          GOOD WINDSCREEN FOR THE MONEY      1392336000  \n",
       "4                  No more pops when I record my vocals.      1392940800  \n",
       "...                                                  ...             ...  \n",
       "10256                                         Five Stars      1405814400  \n",
       "10257  Long life, and for some players, a good econom...      1404259200  \n",
       "10258                                   Good for coated.      1405987200  \n",
       "10259                                        Taylor Made      1404172800  \n",
       "10260  These strings are really quite good, but I wou...      1405468800  \n",
       "\n",
       "[10261 rows x 9 columns]"
      ]
     },
     "execution_count": 36,
     "metadata": {},
     "output_type": "execute_result"
    }
   ],
   "source": [
    "dataframe=spark.read.json(\"Musical_Instruments_5.json\")\n",
    "dataframe2=dataframe.toPandas()\n",
    "dataframe2"
   ]
  },
  {
   "cell_type": "code",
   "execution_count": 37,
   "metadata": {},
   "outputs": [
    {
     "name": "stdout",
     "output_type": "stream",
     "text": [
      "overall                0\n",
      "reviewText             0\n",
      "helpful_numerator      0\n",
      "helpful_denominator    0\n",
      "dtype: int64\n"
     ]
    },
    {
     "name": "stderr",
     "output_type": "stream",
     "text": [
      "/home/thunderwolf/.local/lib/python3.6/site-packages/ipykernel_launcher.py:4: SettingWithCopyWarning: \n",
      "A value is trying to be set on a copy of a slice from a DataFrame.\n",
      "Try using .loc[row_indexer,col_indexer] = value instead\n",
      "\n",
      "See the caveats in the documentation: https://pandas.pydata.org/pandas-docs/stable/user_guide/indexing.html#returning-a-view-versus-a-copy\n",
      "  after removing the cwd from sys.path.\n",
      "/home/thunderwolf/.local/lib/python3.6/site-packages/ipykernel_launcher.py:5: SettingWithCopyWarning: \n",
      "A value is trying to be set on a copy of a slice from a DataFrame.\n",
      "Try using .loc[row_indexer,col_indexer] = value instead\n",
      "\n",
      "See the caveats in the documentation: https://pandas.pydata.org/pandas-docs/stable/user_guide/indexing.html#returning-a-view-versus-a-copy\n",
      "  \"\"\"\n"
     ]
    }
   ],
   "source": [
    "dataframe = dataframe2.iloc[:, [1,2,3]]\n",
    "\n",
    "#split numerator and denominator\n",
    "dataframe['helpful_numerator'] = dataframe['helpful'].apply(lambda x: x[0])\n",
    "dataframe['helpful_denominator'] = dataframe['helpful'].apply(lambda x: x[1])\n",
    "\n",
    "# delete un-needed 'helpful catagory\n",
    "del dataframe['helpful']\n",
    "\n",
    "#Check if we have any null values\n",
    "print (dataframe.isnull().sum())"
   ]
  },
  {
   "cell_type": "code",
   "execution_count": 38,
   "metadata": {},
   "outputs": [
    {
     "data": {
      "text/html": [
       "<div>\n",
       "<style scoped>\n",
       "    .dataframe tbody tr th:only-of-type {\n",
       "        vertical-align: middle;\n",
       "    }\n",
       "\n",
       "    .dataframe tbody tr th {\n",
       "        vertical-align: top;\n",
       "    }\n",
       "\n",
       "    .dataframe thead th {\n",
       "        text-align: right;\n",
       "    }\n",
       "</style>\n",
       "<table border=\"1\" class=\"dataframe\">\n",
       "  <thead>\n",
       "    <tr style=\"text-align: right;\">\n",
       "      <th></th>\n",
       "      <th>overall</th>\n",
       "      <th>helpful_numerator</th>\n",
       "      <th>helpful_denominator</th>\n",
       "    </tr>\n",
       "  </thead>\n",
       "  <tbody>\n",
       "    <tr>\n",
       "      <th>count</th>\n",
       "      <td>10261.000000</td>\n",
       "      <td>10261.00000</td>\n",
       "      <td>10261.000000</td>\n",
       "    </tr>\n",
       "    <tr>\n",
       "      <th>mean</th>\n",
       "      <td>4.488744</td>\n",
       "      <td>1.57090</td>\n",
       "      <td>1.858103</td>\n",
       "    </tr>\n",
       "    <tr>\n",
       "      <th>std</th>\n",
       "      <td>0.894642</td>\n",
       "      <td>8.92045</td>\n",
       "      <td>9.480797</td>\n",
       "    </tr>\n",
       "    <tr>\n",
       "      <th>min</th>\n",
       "      <td>1.000000</td>\n",
       "      <td>0.00000</td>\n",
       "      <td>0.000000</td>\n",
       "    </tr>\n",
       "    <tr>\n",
       "      <th>25%</th>\n",
       "      <td>4.000000</td>\n",
       "      <td>0.00000</td>\n",
       "      <td>0.000000</td>\n",
       "    </tr>\n",
       "    <tr>\n",
       "      <th>50%</th>\n",
       "      <td>5.000000</td>\n",
       "      <td>0.00000</td>\n",
       "      <td>0.000000</td>\n",
       "    </tr>\n",
       "    <tr>\n",
       "      <th>75%</th>\n",
       "      <td>5.000000</td>\n",
       "      <td>1.00000</td>\n",
       "      <td>1.000000</td>\n",
       "    </tr>\n",
       "    <tr>\n",
       "      <th>max</th>\n",
       "      <td>5.000000</td>\n",
       "      <td>290.00000</td>\n",
       "      <td>300.000000</td>\n",
       "    </tr>\n",
       "  </tbody>\n",
       "</table>\n",
       "</div>"
      ],
      "text/plain": [
       "            overall  helpful_numerator  helpful_denominator\n",
       "count  10261.000000        10261.00000         10261.000000\n",
       "mean       4.488744            1.57090             1.858103\n",
       "std        0.894642            8.92045             9.480797\n",
       "min        1.000000            0.00000             0.000000\n",
       "25%        4.000000            0.00000             0.000000\n",
       "50%        5.000000            0.00000             0.000000\n",
       "75%        5.000000            1.00000             1.000000\n",
       "max        5.000000          290.00000           300.000000"
      ]
     },
     "execution_count": 38,
     "metadata": {},
     "output_type": "execute_result"
    }
   ],
   "source": [
    "dataframe.describe()"
   ]
  },
  {
   "cell_type": "code",
   "execution_count": 39,
   "metadata": {},
   "outputs": [
    {
     "data": {
      "text/plain": [
       "<matplotlib.axes._subplots.AxesSubplot at 0x7f773042cb00>"
      ]
     },
     "metadata": {},
     "output_type": "display_data"
    },
    {
     "data": {
      "text/plain": [
       "<matplotlib.axes._subplots.AxesSubplot at 0x7f773031e908>"
      ]
     },
     "metadata": {},
     "output_type": "display_data"
    },
    {
     "data": {
      "text/plain": [
       "<matplotlib.axes._subplots.AxesSubplot at 0x7f772ec8b358>"
      ]
     },
     "metadata": {},
     "output_type": "display_data"
    },
    {
     "data": {
      "image/png": "[encoded data removed]",
      "text/plain": [
       "<Figure size 1080x576 with 1 Axes>"
      ]
     },
     "metadata": {
      "needs_background": "light"
     },
     "output_type": "display_data"
    },
    {
     "data": {
      "image/png": "[encoded data removed]",
      "text/plain": [
       "<Figure size 1080x504 with 1 Axes>"
      ]
     },
     "metadata": {
      "needs_background": "light"
     },
     "output_type": "display_data"
    },
    {
     "data": {
      "image/png": "[encoded data removed]",
      "text/plain": [
       "<Figure size 1080x432 with 1 Axes>"
      ]
     },
     "metadata": {
      "needs_background": "light"
     },
     "output_type": "display_data"
    }
   ],
   "source": [
    "plt.figure(figsize=(15,8))\n",
    "plt.title('Box plotting of Features overall')\n",
    "plt.ylabel('Spread')\n",
    "plt.xlabel('Features')\n",
    "ld=dataframe.columns\n",
    "display(sns.boxplot(dataframe['overall']))\n",
    "plt.figure(figsize=(15,7))\n",
    "plt.title('Box plot of Features')\n",
    "plt.ylabel('Spread')\n",
    "plt.xlabel('Features')\n",
    "ld1=dataframe.columns\n",
    "display(sns.boxplot(dataframe['helpful_numerator']))\n",
    "plt.figure(figsize=(15,6))\n",
    "plt.title('Box plot of Features')\n",
    "plt.ylabel('Spread')\n",
    "plt.xlabel('Features')\n",
    "ld2=dataframe.columns\n",
    "display(sns.boxplot(dataframe['helpful_denominator']))"
   ]
  },
  {
   "cell_type": "code",
   "execution_count": 40,
   "metadata": {},
   "outputs": [
    {
     "name": "stdout",
     "output_type": "stream",
     "text": [
      "8914\n",
      "8914\n"
     ]
    },
    {
     "data": {
      "text/html": [
       "<div>\n",
       "<style scoped>\n",
       "    .dataframe tbody tr th:only-of-type {\n",
       "        vertical-align: middle;\n",
       "    }\n",
       "\n",
       "    .dataframe tbody tr th {\n",
       "        vertical-align: top;\n",
       "    }\n",
       "\n",
       "    .dataframe thead th {\n",
       "        text-align: right;\n",
       "    }\n",
       "</style>\n",
       "<table border=\"1\" class=\"dataframe\">\n",
       "  <thead>\n",
       "    <tr style=\"text-align: right;\">\n",
       "      <th></th>\n",
       "      <th>overall</th>\n",
       "      <th>reviewText</th>\n",
       "      <th>helpful_numerator</th>\n",
       "      <th>helpful_denominator</th>\n",
       "    </tr>\n",
       "  </thead>\n",
       "  <tbody>\n",
       "    <tr>\n",
       "      <th>8913</th>\n",
       "      <td>5.0</td>\n",
       "      <td>Before I bought this I had to use a tuner on m...</td>\n",
       "      <td>0</td>\n",
       "      <td>0</td>\n",
       "    </tr>\n",
       "    <tr>\n",
       "      <th>8914</th>\n",
       "      <td>5.0</td>\n",
       "      <td>I own several tuners, and two Snark-2 tuners, ...</td>\n",
       "      <td>290</td>\n",
       "      <td>300</td>\n",
       "    </tr>\n",
       "  </tbody>\n",
       "</table>\n",
       "</div>"
      ],
      "text/plain": [
       "      overall                                         reviewText  \\\n",
       "8913      5.0  Before I bought this I had to use a tuner on m...   \n",
       "8914      5.0  I own several tuners, and two Snark-2 tuners, ...   \n",
       "\n",
       "      helpful_numerator  helpful_denominator  \n",
       "8913                  0                    0  \n",
       "8914                290                  300  "
      ]
     },
     "execution_count": 40,
     "metadata": {},
     "output_type": "execute_result"
    }
   ],
   "source": [
    "print (dataframe['helpful_numerator'].idxmax(axis=0, skipna=True))\n",
    "print (dataframe['helpful_denominator'].idxmax(axis=0, skipna=True))\n",
    "dataframe.iloc[[8913,8914]]"
   ]
  },
  {
   "cell_type": "code",
   "execution_count": 41,
   "metadata": {},
   "outputs": [
    {
     "data": {
      "text/plain": [
       "(627, 4)"
      ]
     },
     "execution_count": 41,
     "metadata": {},
     "output_type": "execute_result"
    }
   ],
   "source": [
    "dataframeX = dataframe[(dataframe.helpful_denominator > 5)].copy()\n",
    "dataframeX.shape"
   ]
  },
  {
   "cell_type": "code",
   "execution_count": 42,
   "metadata": {},
   "outputs": [
    {
     "data": {
      "text/html": [
       "<div>\n",
       "<style scoped>\n",
       "    .dataframe tbody tr th:only-of-type {\n",
       "        vertical-align: middle;\n",
       "    }\n",
       "\n",
       "    .dataframe tbody tr th {\n",
       "        vertical-align: top;\n",
       "    }\n",
       "\n",
       "    .dataframe thead th {\n",
       "        text-align: right;\n",
       "    }\n",
       "</style>\n",
       "<table border=\"1\" class=\"dataframe\">\n",
       "  <thead>\n",
       "    <tr style=\"text-align: right;\">\n",
       "      <th></th>\n",
       "      <th>overall</th>\n",
       "      <th>reviewText</th>\n",
       "      <th>helpful_numerator</th>\n",
       "      <th>helpful_denominator</th>\n",
       "      <th>Helpful</th>\n",
       "    </tr>\n",
       "  </thead>\n",
       "  <tbody>\n",
       "    <tr>\n",
       "      <th>1</th>\n",
       "      <td>5.0</td>\n",
       "      <td>The product does exactly as it should and is q...</td>\n",
       "      <td>13</td>\n",
       "      <td>14</td>\n",
       "      <td>1</td>\n",
       "    </tr>\n",
       "    <tr>\n",
       "      <th>10</th>\n",
       "      <td>5.0</td>\n",
       "      <td>Monster makes a wide array of cables, includin...</td>\n",
       "      <td>6</td>\n",
       "      <td>6</td>\n",
       "      <td>1</td>\n",
       "    </tr>\n",
       "    <tr>\n",
       "      <th>46</th>\n",
       "      <td>4.0</td>\n",
       "      <td>Cheap and good texture rubber that does not ge...</td>\n",
       "      <td>12</td>\n",
       "      <td>13</td>\n",
       "      <td>1</td>\n",
       "    </tr>\n",
       "  </tbody>\n",
       "</table>\n",
       "</div>"
      ],
      "text/plain": [
       "    overall                                         reviewText  \\\n",
       "1       5.0  The product does exactly as it should and is q...   \n",
       "10      5.0  Monster makes a wide array of cables, includin...   \n",
       "46      4.0  Cheap and good texture rubber that does not ge...   \n",
       "\n",
       "    helpful_numerator  helpful_denominator  Helpful  \n",
       "1                  13                   14        1  \n",
       "10                  6                    6        1  \n",
       "46                 12                   13        1  "
      ]
     },
     "execution_count": 42,
     "metadata": {},
     "output_type": "execute_result"
    }
   ],
   "source": [
    "import numpy as np\n",
    "threshold = 0.5\n",
    "dataframeX.loc[:, 'Helpful'] = np.where(dataframeX.loc[:, 'helpful_numerator'] \\\n",
    "                                 / dataframeX.loc[:, 'helpful_denominator'] > threshold, 1, 0)\n",
    "dataframeX.head(3)"
   ]
  },
  {
   "cell_type": "code",
   "execution_count": 43,
   "metadata": {},
   "outputs": [
    {
     "name": "stdout",
     "output_type": "stream",
     "text": [
      "Count:\n"
     ]
    },
    {
     "data": {
      "text/html": [
       "<div>\n",
       "<style scoped>\n",
       "    .dataframe tbody tr th:only-of-type {\n",
       "        vertical-align: middle;\n",
       "    }\n",
       "\n",
       "    .dataframe tbody tr th {\n",
       "        vertical-align: top;\n",
       "    }\n",
       "\n",
       "    .dataframe thead th {\n",
       "        text-align: right;\n",
       "    }\n",
       "</style>\n",
       "<table border=\"1\" class=\"dataframe\">\n",
       "  <thead>\n",
       "    <tr style=\"text-align: right;\">\n",
       "      <th></th>\n",
       "      <th>overall</th>\n",
       "      <th>reviewText</th>\n",
       "      <th>helpful_numerator</th>\n",
       "      <th>helpful_denominator</th>\n",
       "    </tr>\n",
       "    <tr>\n",
       "      <th>Helpful</th>\n",
       "      <th></th>\n",
       "      <th></th>\n",
       "      <th></th>\n",
       "      <th></th>\n",
       "    </tr>\n",
       "  </thead>\n",
       "  <tbody>\n",
       "    <tr>\n",
       "      <th>0</th>\n",
       "      <td>62</td>\n",
       "      <td>62</td>\n",
       "      <td>62</td>\n",
       "      <td>62</td>\n",
       "    </tr>\n",
       "    <tr>\n",
       "      <th>1</th>\n",
       "      <td>565</td>\n",
       "      <td>565</td>\n",
       "      <td>565</td>\n",
       "      <td>565</td>\n",
       "    </tr>\n",
       "  </tbody>\n",
       "</table>\n",
       "</div>"
      ],
      "text/plain": [
       "         overall  reviewText  helpful_numerator  helpful_denominator\n",
       "Helpful                                                             \n",
       "0             62          62                 62                   62\n",
       "1            565         565                565                  565"
      ]
     },
     "metadata": {},
     "output_type": "display_data"
    }
   ],
   "source": [
    "#Check the balance\n",
    "print ('Count:')\n",
    "display(dataframeX.groupby('Helpful').count())"
   ]
  },
  {
   "cell_type": "code",
   "execution_count": 44,
   "metadata": {},
   "outputs": [
    {
     "data": {
      "image/png": "[encoded data removed]",
      "text/plain": [
       "<Figure size 1080x576 with 2 Axes>"
      ]
     },
     "metadata": {
      "needs_background": "light"
     },
     "output_type": "display_data"
    }
   ],
   "source": [
    "#Visualize correlation of the data\n",
    "correlations = dataframeX.corr()\n",
    "plt.figure(figsize = (15,8))\n",
    "plt.title(\"Heatmap of correlations in each and every catagory\")\n",
    "_ = sns.heatmap(correlations, vmin=0, vmax=1, annot=True)"
   ]
  },
  {
   "cell_type": "code",
   "execution_count": 45,
   "metadata": {},
   "outputs": [
    {
     "data": {
      "text/plain": [
       "1      the product does exactly as it should and is q...\n",
       "10     monster makes a wide array of cables, includin...\n",
       "46     cheap and good texture rubber that does not ge...\n",
       "77     for the price, fantastic.they do feel light an...\n",
       "103    this adapter cable for stereo mics to work wit...\n",
       "Name: reviewText, dtype: object"
      ]
     },
     "execution_count": 45,
     "metadata": {},
     "output_type": "execute_result"
    }
   ],
   "source": [
    "# convert text to lowercase\n",
    "dataframeX.loc[:, 'reviewText'] = dataframeX['reviewText'].str.lower()\n",
    "dataframeX['reviewText'].head()"
   ]
  },
  {
   "cell_type": "code",
   "execution_count": 46,
   "metadata": {},
   "outputs": [
    {
     "name": "stderr",
     "output_type": "stream",
     "text": [
      "/home/thunderwolf/.local/lib/python3.6/site-packages/sklearn/feature_extraction/text.py:386: UserWarning: Your stop_words may be inconsistent with your preprocessing. Tokenizing the stop words generated tokens ['abov', 'afterward', 'alon', 'alreadi', 'alway', 'ani', 'anoth', 'anyon', 'anyth', 'anywher', 'becam', 'becaus', 'becom', 'befor', 'besid', 'cri', 'describ', 'dure', 'els', 'elsewher', 'empti', 'everi', 'everyon', 'everyth', 'everywher', 'fifti', 'forti', 'henc', 'hereaft', 'herebi', 'howev', 'hundr', 'inde', 'mani', 'meanwhil', 'moreov', 'nobodi', 'noon', 'noth', 'nowher', 'onc', 'onli', 'otherwis', 'ourselv', 'perhap', 'pleas', 'sever', 'sinc', 'sincer', 'sixti', 'someon', 'someth', 'sometim', 'somewher', 'themselv', 'thenc', 'thereaft', 'therebi', 'therefor', 'togeth', 'twelv', 'twenti', 'veri', 'whatev', 'whenc', 'whenev', 'wherea', 'whereaft', 'wherebi', 'wherev', 'whi', 'yourselv'] not in stop_words.\n",
      "  'stop_words.' % sorted(inconsistent))\n"
     ]
    },
    {
     "data": {
      "text/plain": [
       "<627x1542 sparse matrix of type '<class 'numpy.float64'>'\n",
       "\twith 39054 stored elements in Compressed Sparse Row format>"
      ]
     },
     "execution_count": 46,
     "metadata": {},
     "output_type": "execute_result"
    }
   ],
   "source": [
    "#tokenize text with Tfidf\n",
    "from sklearn.feature_extraction.text import TfidfVectorizer\n",
    "from nltk.stem.snowball import SnowballStemmer\n",
    "\n",
    "#create a stemmer\n",
    "stemmer = SnowballStemmer(\"english\")\n",
    "#define our own tokenizing function that we will pass into the TFIDFVectorizer. We will also stem the words here.\n",
    "def tokens(x):\n",
    "    x = x.split()\n",
    "    stems = []\n",
    "    [stems.append(stemmer.stem(word)) for word in x]\n",
    "    return stems\n",
    "#loads pickle if exists, extracts and pickles if it doesn't\n",
    "if os.path.exists('features.pickle'):\n",
    "    print ('Pickled file already present, loading...')\n",
    "    features = pickle.load( open( \"features.pickle\", \"rb\" ) )\n",
    "    print ('Pickle file loaded.')\n",
    "else:\n",
    "    #define the vectorizer\n",
    "    vectorizer = TfidfVectorizer(tokenizer = tokens, stop_words = 'english', ngram_range=(1, 1), min_df = 0.01)\n",
    "    #fit the vectorizers to the data.\n",
    "    features = vectorizer.fit_transform(dataframeX['reviewText'])\n",
    "features"
   ]
  },
  {
   "cell_type": "code",
   "execution_count": 47,
   "metadata": {},
   "outputs": [],
   "source": [
    "from sklearn.model_selection import train_test_split\n",
    "X_train, X_test, y_train, y_test = train_test_split(features,dataframeX['Helpful'], test_size=0.3, random_state=0)"
   ]
  },
  {
   "cell_type": "code",
   "execution_count": 48,
   "metadata": {},
   "outputs": [],
   "source": [
    "from sklearn.metrics import roc_auc_score, roc_curve\n",
    "\n",
    "def train_classifier(clf, X_train, y_train):\n",
    "    ''' Fits a classifier to the training data. '''\n",
    "    \n",
    "    # Start the clock, train the classifier, then stop the clock\n",
    "    start = time()\n",
    "    clf.fit(X_train, y_train)\n",
    "    end = time()\n",
    "    \n",
    "    # Print the results\n",
    "    print (\"Trained model in {:.4f} seconds\".format(end - start))\n",
    "\n",
    "    \n",
    "def predict_labels(clf, features, target):\n",
    "    ''' Makes predictions using a fit classifier based on roc_auc score. '''\n",
    "    \n",
    "    # Start the clock, make predictions, then stop the clock\n",
    "    start = time()\n",
    "    probas = clf.predict_proba(features)\n",
    "    end = time()\n",
    "    \n",
    "    # Print and return results\n",
    "    print (\"Made predictions in {:.4f} seconds.\".format(end - start))\n",
    "    return roc_auc_score(target.values, probas[:,1].T)\n",
    "\n",
    "\n",
    "def train_predict(clf, X_train, y_train, X_test, y_test):\n",
    "    ''' Train and predict using a classifer based on roc_auc score. '''\n",
    "    \n",
    "    # Indicate the classifier and the training set size\n",
    "    print (\"Training a {} using a training set size of {}. . .\".format(clf.__class__.__name__, X_train.shape[0]))\n",
    "    \n",
    "    # Train the classifier\n",
    "    train_classifier(clf, X_train, y_train)\n",
    "    \n",
    "    # Print the results of prediction for both training and testing\n",
    "    print (\"ROC_AUC score for training set: {:.4f}.\".format(predict_labels(clf, X_train, y_train)))\n",
    "    print (\"ROC_AUC score for test set: {:.4f}.\\n\".format(predict_labels(clf, X_test, y_test)))\n",
    "    \n",
    "def clf_test_roc_score(clf, X_train, y_train, X_test, y_test):\n",
    "    clf.fit(X_train, y_train)\n",
    "    probas = probas =clf.predict_proba(X_test)\n",
    "    return roc_auc_score(y_test, probas[:,1].T)"
   ]
  },
  {
   "cell_type": "code",
   "execution_count": 49,
   "metadata": {},
   "outputs": [
    {
     "name": "stdout",
     "output_type": "stream",
     "text": [
      "Training a LogisticRegression using a training set size of 438. . .\n",
      "Trained model in 0.1703 seconds\n",
      "Made predictions in 0.0013 seconds.\n",
      "ROC_AUC score for training set: 0.9999.\n",
      "Made predictions in 0.0007 seconds.\n",
      "ROC_AUC score for test set: 0.7702.\n",
      "\n",
      "Training a LogisticRegression using a training set size of 438. . .\n",
      "Trained model in 0.0533 seconds\n",
      "Made predictions in 0.0026 seconds.\n",
      "ROC_AUC score for training set: 0.9999.\n",
      "Made predictions in 0.0007 seconds.\n",
      "ROC_AUC score for test set: 0.7702.\n",
      "\n",
      "Training a LogisticRegression using a training set size of 438. . .\n",
      "Trained model in 0.0259 seconds\n",
      "Made predictions in 0.0012 seconds.\n",
      "ROC_AUC score for training set: 0.9999.\n",
      "Made predictions in 0.0007 seconds.\n",
      "ROC_AUC score for test set: 0.7702.\n",
      "\n"
     ]
    }
   ],
   "source": [
    "from sklearn.linear_model import LogisticRegression\n",
    "clf_list1 = [LogisticRegression(random_state = 0)]\n",
    "x_tr = X_train.toarray()\n",
    "x_te = X_test.toarray()\n",
    "\n",
    "\n",
    "# Set up the training set sizes for 100, 200 and 300 respectively.\n",
    "train_feature_list = [x_tr[0:10000],x_tr[0:20000],x_tr]\n",
    "train_target_list = [y_train[0:10000], y_train[0:20000], y_train]\n",
    "\n",
    "\n",
    "# Execute the 'train_predict' function for each of the classifiers \n",
    "for clf1 in clf_list1:\n",
    "    for a, b in zip(train_feature_list, train_target_list):\n",
    "        train_predict(clf1, a, b, x_te, y_test)"
   ]
  },
  {
   "cell_type": "code",
   "execution_count": 50,
   "metadata": {},
   "outputs": [
    {
     "name": "stdout",
     "output_type": "stream",
     "text": [
      "Average ROC_AUC Score for 1-100 random_state: 0.7702\n"
     ]
    }
   ],
   "source": [
    "random_numbers = range(1,101)\n",
    "tot = 0.0\n",
    "for seed in random_numbers:\n",
    "    clf3 = LogisticRegression(random_state=seed)\n",
    "    clf3.fit(X_train, y_train)\n",
    "    probas =clf3.predict_proba(X_test)\n",
    "    tot += roc_auc_score(y_test, probas[:,1].T)\n",
    "    \n",
    "print ('Average ROC_AUC Score for 1-100 random_state: {:.4f}'.format(tot/100))"
   ]
  },
  {
   "cell_type": "code",
   "execution_count": 51,
   "metadata": {},
   "outputs": [
    {
     "name": "stdout",
     "output_type": "stream",
     "text": [
      "Average ROC_AUC Score for 1-100 random_state: 0.7702\n"
     ]
    }
   ],
   "source": [
    "random_numbers = range(1,101)\n",
    "tot = 0.0\n",
    "for seed in random_numbers:\n",
    "    clf3 = LogisticRegression(random_state=seed)\n",
    "    clf3.fit(X_train, y_train)\n",
    "    probas =clf3.predict_proba(X_test)\n",
    "    tot += roc_auc_score(y_test, probas[:,1].T)\n",
    "    \n",
    "print ('Average ROC_AUC Score for 1-100 random_state: {:.4f}'.format(tot/100))"
   ]
  },
  {
   "cell_type": "code",
   "execution_count": null,
   "metadata": {},
   "outputs": [],
   "source": []
  }
 ],
 "metadata": {
  "kernelspec": {
   "display_name": "Python 3",
   "language": "python",
   "name": "python3"
  },
  "language_info": {
   "codemirror_mode": {
    "name": "ipython",
    "version": 3
   },
   "file_extension": ".py",
   "mimetype": "text/x-python",
   "name": "python",
   "nbconvert_exporter": "python",
   "pygments_lexer": "ipython3",
   "version": "3.6.9"
  }
 },
 "nbformat": 4,
 "nbformat_minor": 2
}
